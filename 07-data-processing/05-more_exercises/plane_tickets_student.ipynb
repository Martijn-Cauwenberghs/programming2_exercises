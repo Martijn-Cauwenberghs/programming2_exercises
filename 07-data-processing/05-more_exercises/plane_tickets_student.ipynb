{
 "cells": [
  {
   "cell_type": "markdown",
   "metadata": {},
   "source": [
    "Import the necessary packages\n"
   ]
  },
  {
   "cell_type": "code",
   "execution_count": 2,
   "metadata": {},
   "outputs": [],
   "source": [
    "import pandas as pd\n",
    "import numpy as np\n",
    "import matplotlib.pyplot as plt"
   ]
  },
  {
   "cell_type": "markdown",
   "metadata": {},
   "source": [
    "Load the data in a DataFrame and show the first 5 rows to inspect the DataFrame."
   ]
  },
  {
   "cell_type": "code",
   "execution_count": 5,
   "metadata": {},
   "outputs": [],
   "source": [
    "filepath = \"customer_booking.csv\"\n",
    "encodings = [\"utf-8\",\"utf-8-sig\", \"iso-8859-1\", \"latin1\", \"cp1252\"]\n",
    "for encoding in encodings:\n",
    "    try:\n",
    "        data = pd.read_csv(filepath, index_col = 0, encoding=encoding)\n",
    "        break\n",
    "    except Exception as e:  # or the error you receive\n",
    "        pass"
   ]
  },
  {
   "cell_type": "markdown",
   "metadata": {},
   "source": [
    "**Information about the dataframe**\n",
    "  \n",
    "  \n",
    "This dataset contains information about airline bookings, including the number of passengers, sales channel, trip type, purchase lead time, length of stay, flight hour, flight day, route, booking origin, and various flags indicating if the customer wanted extra baggage, preferred seat, or in-flight meals. The dataset also includes the total flight duration and a flag indicating if the booking was completed. This information can be used for various analyses, such as predicting demand, identifying popular routes, and understanding customer preferences.\n",
    "\n",
    "**Column Description**:\n",
    "* num_passengers = number of passengers travelling\n",
    "* sales_channel = sales channel booking was made on\n",
    "* trip_type = trip Type (Round Trip, One Way, Circle Trip)\n",
    "* purchase_lead = number of days between travel date and booking date\n",
    "* length_of_stay = number of days spent at destination\n",
    "* flight_hour = hour of flight departure\n",
    "* flight_day = day of week of flight departure\n",
    "* route = origin -> destination flight route\n",
    "* booking_origin = country from where booking was made\n",
    "* wants_extra_baggage = if the customer wanted extra baggage in the booking\n",
    "* wants_preferred_seat = if the customer wanted a preferred seat in the booking\n",
    "* wants_in_flight_meals = if the customer wanted in-flight meals in the booking\n",
    "* flight_duration = total duration of flight (in hours)\n",
    "* booking_complete = flag indicating if the customer completed the booking"
   ]
  },
  {
   "cell_type": "markdown",
   "metadata": {},
   "source": [
    "Create a new dataframe from this one:\n",
    "* only containing following columns:  \n",
    "num_passengers, purchase_lead, length_of_stay, booking_origin, flight_duration and booking_complete\n",
    "* with only the rows where the booking is completed (1)\n"
   ]
  },
  {
   "cell_type": "code",
   "execution_count": 79,
   "metadata": {},
   "outputs": [
    {
     "name": "stdout",
     "output_type": "stream",
     "text": [
      "                num_passengers  purchase_lead  length_of_stay booking_origin  \\\n",
      "num_passengers                                                                 \n",
      "2                          NaN            262              19    New Zealand   \n",
      "1                          NaN            112              20    New Zealand   \n",
      "2                          NaN            243              22          India   \n",
      "1                          NaN             96              31    New Zealand   \n",
      "2                          NaN             68              22          India   \n",
      "...                        ...            ...             ...            ...   \n",
      "2                          NaN             27               6      Australia   \n",
      "1                          NaN            111               6      Australia   \n",
      "1                          NaN             24               6      Australia   \n",
      "1                          NaN             15               6      Australia   \n",
      "1                          NaN             19               6      Australia   \n",
      "\n",
      "                flight_duration  booking_complete  \n",
      "num_passengers                                     \n",
      "2                          5.52                 0  \n",
      "1                          5.52                 0  \n",
      "2                          5.52                 0  \n",
      "1                          5.52                 0  \n",
      "2                          5.52                 0  \n",
      "...                         ...               ...  \n",
      "2                          5.62                 0  \n",
      "1                          5.62                 0  \n",
      "1                          5.62                 0  \n",
      "1                          5.62                 0  \n",
      "1                          5.62                 0  \n",
      "\n",
      "[50000 rows x 6 columns]\n"
     ]
    }
   ],
   "source": [
    "colums=[\"num_passengers\", \"purchase_lead\", \"length_of_stay\", \"booking_origin\", \"flight_duration\", \"booking_complete\"]\n",
    "data = pd.DataFrame(data, columns=colums)\n",
    "print(data)"
   ]
  },
  {
   "cell_type": "markdown",
   "metadata": {},
   "source": [
    "Group the average days between booking date and traveling date per country of the booking. Display the countries with the lowest average of days between booking and traveling first and the ones with the most days last."
   ]
  },
  {
   "cell_type": "code",
   "execution_count": null,
   "metadata": {},
   "outputs": [],
   "source": []
  },
  {
   "cell_type": "code",
   "execution_count": null,
   "metadata": {},
   "outputs": [],
   "source": []
  },
  {
   "cell_type": "markdown",
   "metadata": {},
   "source": [
    "Make a histogram (bar plot) of the purchase leads per country. Do this for the 5 countries with the most bookings. Place the purchase leads on the x-axis and the number of bookings on the y-axis. Use appropriate labels and show a legend."
   ]
  },
  {
   "cell_type": "code",
   "execution_count": null,
   "metadata": {},
   "outputs": [],
   "source": []
  },
  {
   "cell_type": "markdown",
   "metadata": {},
   "source": []
  }
 ],
 "metadata": {
  "kernelspec": {
   "display_name": "Python 3",
   "language": "python",
   "name": "python3"
  },
  "language_info": {
   "codemirror_mode": {
    "name": "ipython",
    "version": 3
   },
   "file_extension": ".py",
   "mimetype": "text/x-python",
   "name": "python",
   "nbconvert_exporter": "python",
   "pygments_lexer": "ipython3",
   "version": "3.12.3"
  }
 },
 "nbformat": 4,
 "nbformat_minor": 2
}
